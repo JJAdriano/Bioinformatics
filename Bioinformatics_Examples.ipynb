{
 "cells": [
  {
   "cell_type": "markdown",
   "id": "99637c88-d888-48a9-9a76-bf0918db0eac",
   "metadata": {},
   "source": [
    "# Bioinformatics with Python"
   ]
  },
  {
   "cell_type": "markdown",
   "id": "44efebb4-d2cd-4a42-becb-58e1fa704b34",
   "metadata": {},
   "source": [
    "Examples take from: http://hplgit.github.io/bioinf-py/doc/pub/html/main_bioinf.html. Also available from: http://hplgit.github.io/bioinf-py/doc/pub/bioinf-py.html."
   ]
  },
  {
   "cell_type": "markdown",
   "id": "f6307e8f-0999-4d40-a34f-78178446c48d",
   "metadata": {},
   "source": [
    "## Counting Letters in DNA Strings\n"
   ]
  },
  {
   "cell_type": "markdown",
   "id": "b4ae1449-b04a-4d40-9cd3-46730fbdc908",
   "metadata": {
    "tags": []
   },
   "source": [
    "### List Iteration"
   ]
  },
  {
   "cell_type": "code",
   "execution_count": 1,
   "id": "59c0fdca-f4bf-4580-8e4b-6a01e8ac2d1f",
   "metadata": {},
   "outputs": [
    {
     "data": {
      "text/plain": [
       "['A', 'U', 'G', 'C']"
      ]
     },
     "execution_count": 1,
     "metadata": {},
     "output_type": "execute_result"
    }
   ],
   "source": [
    "rna = list('AUGC')\n",
    "rna"
   ]
  },
  {
   "cell_type": "code",
   "execution_count": 2,
   "id": "df09196e-58ca-41e6-9467-1baa0910f93a",
   "metadata": {},
   "outputs": [
    {
     "name": "stdout",
     "output_type": "stream",
     "text": [
      "A\n",
      "U\n",
      "G\n",
      "C\n"
     ]
    }
   ],
   "source": [
    "for nucleobases in rna:\n",
    "    print (nucleobases)"
   ]
  },
  {
   "cell_type": "markdown",
   "id": "47f07490-f952-4f2d-bba8-98c79442db77",
   "metadata": {},
   "source": [
    "### String Iteration\n"
   ]
  },
  {
   "cell_type": "code",
   "execution_count": 3,
   "id": "b9fc297b-3f1b-400c-823a-38841cfec776",
   "metadata": {},
   "outputs": [],
   "source": [
    "def count_v1(dna, base):\n",
    "    \"\"\"\n",
    "    count_v1 counts how many times one of the five nucleobases:\n",
    "    adenine (A), cytosine (C), guanine (G), thymine (T), and uracil (U)\n",
    "    is in a given DNA chain.\n",
    "\n",
    "    :param dna: DNA chain\n",
    "    :param base: nitrogenous base of interest\n",
    "    :return: number of times the specified base exists in the DNA chain\n",
    "    \"\"\" \n",
    "    \n",
    "    # First convert string to list of letters\n",
    "    dna = list(dna)\n",
    "    # Initialise counter\n",
    "    counter = 0            \n",
    "    for nucleobase in dna:\n",
    "        if nucleobase == base:\n",
    "            counter += 1\n",
    "    return counter"
   ]
  },
  {
   "cell_type": "code",
   "execution_count": 4,
   "id": "3f3fff73-529b-4ce5-96c5-4f0679b811ca",
   "metadata": {},
   "outputs": [
    {
     "name": "stdout",
     "output_type": "stream",
     "text": [
      "{'A': 'Adenine', 'C': 'Cytosine', 'G': 'Guanine', 'T': 'Thymine'}\n"
     ]
    }
   ],
   "source": [
    "# Create a Nucleobase dictionary\n",
    "nucleobases_dict = {\n",
    "    \"A\": \"Adenine\",\n",
    "    \"C\": \"Cytosine\",\n",
    "    \"G\": \"Guanine\",\n",
    "    \"T\": \"Thymine\",\n",
    "#     \"U\": \"Uracil\"\n",
    "} \n",
    "\n",
    "# Display the dictionary\n",
    "print(nucleobases_dict)"
   ]
  },
  {
   "cell_type": "markdown",
   "id": "57d6465a-76f7-44f0-b096-63dfc2a62142",
   "metadata": {},
   "source": [
    "### First example"
   ]
  },
  {
   "cell_type": "code",
   "execution_count": 5,
   "id": "94a148d2-f735-41ac-aa12-223d21b31317",
   "metadata": {},
   "outputs": [
    {
     "name": "stdout",
     "output_type": "stream",
     "text": [
      "Cytosine appears 5 times in ATGCGGACCTATCC.\n"
     ]
    }
   ],
   "source": [
    "# Find how many times is cytosine in the following chain.\n",
    "dna = 'ATGCGGACCTATCC'\n",
    "base = 'C'\n",
    "n = count_v1(dna, base)\n",
    "\n",
    "print (f'{nucleobases_dict[base]} appears {n} times in {dna}.')"
   ]
  }
 ],
 "metadata": {
  "kernelspec": {
   "display_name": "Python 3.8",
   "language": "python",
   "name": "py38"
  },
  "language_info": {
   "codemirror_mode": {
    "name": "ipython",
    "version": 3
   },
   "file_extension": ".py",
   "mimetype": "text/x-python",
   "name": "python",
   "nbconvert_exporter": "python",
   "pygments_lexer": "ipython3",
   "version": "3.8.8"
  },
  "widgets": {
   "application/vnd.jupyter.widget-state+json": {
    "state": {},
    "version_major": 2,
    "version_minor": 0
   }
  }
 },
 "nbformat": 4,
 "nbformat_minor": 5
}
